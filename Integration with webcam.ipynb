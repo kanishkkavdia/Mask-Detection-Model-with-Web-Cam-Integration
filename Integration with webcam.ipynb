{
 "cells": [
  {
   "cell_type": "code",
   "execution_count": 1,
   "metadata": {},
   "outputs": [],
   "source": [
    "import numpy as np\n",
    "from tensorflow.keras.models import load_model\n",
    "import cv2 as cv"
   ]
  },
  {
   "cell_type": "code",
   "execution_count": 2,
   "metadata": {},
   "outputs": [],
   "source": [
    "model=load_model(\"\\\\facial mask detection\\\\dataset\\\\mask_model\")"
   ]
  },
  {
   "cell_type": "code",
   "execution_count": 3,
   "metadata": {},
   "outputs": [],
   "source": [
    "face_cascade=cv.CascadeClassifier('haarcascade_frontalface_default.xml')\n",
    "capture=cv.VideoCapture(0)\n",
    "\n",
    "labels={1:\"mask\",0:\"no mask\"}\n",
    "colors={1:(0,255,0),0:(0,0,255)}"
   ]
  },
  {
   "cell_type": "code",
   "execution_count": 5,
   "metadata": {},
   "outputs": [],
   "source": [
    "while(True):\n",
    "\n",
    "    ret,img=capture.read()\n",
    "    gray=cv.cvtColor(img,cv.COLOR_BGR2GRAY)\n",
    "    faces=face_cascade.detectMultiScale(gray,1.3,5)  \n",
    "\n",
    "    for x,y,w,h in faces:\n",
    "    \n",
    "        face_img=img[y:y+h, x:x+w]\n",
    "        resized=cv.resize(face_img,(224,224))\n",
    "        normalized=resized/255.0\n",
    "        reshaped=np.reshape(normalized,(1,224,224,3))\n",
    "        result=model.predict(reshaped)\n",
    "        predict=np.argmax(result)\n",
    "      \n",
    "        cv.rectangle(img,(x,y),(x+w,y+h),colors[predict],2)\n",
    "        cv.putText(img, labels[predict], (x, y),cv.FONT_HERSHEY_PLAIN,3,(255,255,255),2)\n",
    "        \n",
    "        \n",
    "    cv.imshow(\"Mask Detector\",img)\n",
    "    key=cv.waitKey(1)\n",
    "    \n",
    "    if(key==27):\n",
    "        break\n",
    "        \n",
    "cv.destroyAllWindows()\n",
    "capture.release()"
   ]
  },
  {
   "cell_type": "code",
   "execution_count": null,
   "metadata": {},
   "outputs": [],
   "source": [
    " "
   ]
  },
  {
   "cell_type": "code",
   "execution_count": null,
   "metadata": {},
   "outputs": [],
   "source": []
  }
 ],
 "metadata": {
  "kernelspec": {
   "display_name": "Python 3",
   "language": "python",
   "name": "python3"
  },
  "language_info": {
   "codemirror_mode": {
    "name": "ipython",
    "version": 3
   },
   "file_extension": ".py",
   "mimetype": "text/x-python",
   "name": "python",
   "nbconvert_exporter": "python",
   "pygments_lexer": "ipython3",
   "version": "3.8.5"
  }
 },
 "nbformat": 4,
 "nbformat_minor": 4
}
